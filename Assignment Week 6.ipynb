{
 "cells": [
  {
   "cell_type": "markdown",
   "id": "98c31a95",
   "metadata": {},
   "source": [
    "Exercise 2 - Create a markdown cell with the title of the notebook.\n",
    "\n",
    "\n",
    "Peer-graded_Assignment_Submitting_My_Work"
   ]
  },
  {
   "cell_type": "markdown",
   "id": "3b4e47ea",
   "metadata": {},
   "source": [
    "Exercise 3 - Create a markdown cell for an introduction\n",
    "\n",
    "Objectives:\n",
    "\n",
    "1. List popular languages that Data Scientists use.\n",
    "2. List commonly used libraries used by Data Scientists.\n",
    "3. Comment on Data Science tools."
   ]
  },
  {
   "cell_type": "markdown",
   "id": "6ecc4600",
   "metadata": {},
   "source": [
    "Exercise 4 - Create a markdown cell to list data science languages.\n",
    "\n",
    "\n",
    "Some of the popular languages that Data Scientists use are:\n",
    "\n",
    "1. Python\n",
    "2. R\n",
    "3. SQL\n",
    "4. Java\n",
    "5. Scala \n",
    "6. C/C++ \n",
    "7. JavaScript "
   ]
  },
  {
   "cell_type": "markdown",
   "id": "921394c0",
   "metadata": {},
   "source": [
    "Exercise 5 - Create a markdown cell to list data science libraries\n",
    "\n",
    "\n",
    "Some of the commonly used libraries used by Data Scientists include:\n",
    "\n",
    "1. TensorFlow\n",
    "2. NumPy\n",
    "3. SciPy\n",
    "4. Pandas\n",
    "5. Matplotlib\n",
    "6. Keras\n",
    "7. SciKit-Learn\n",
    "8. Caffe2\n",
    "9. PyTorch\n",
    "10. Chainer\n",
    "11. Scrapy\n",
    "12. BeautifulSoup\n",
    "13. LightGBM\n",
    "14. ELI5\n",
    "15. NuPIC\n",
    "16. Ramp\n",
    "17. Bob\n",
    "18. PyBrain\n",
    "19. Pipenv\n"
   ]
  },
  {
   "cell_type": "markdown",
   "id": "b42666b8",
   "metadata": {},
   "source": [
    "Exercise 6 - Create a markdown cell with a table of Data Science tools\n",
    "\n",
    "1. RapidMiner :- RapidMiner is a data science platform that analyses the collective impact of an organization's data.\n",
    "\n",
    "2. Apache Spark :- Apache Spark is an open source data processing and analytics engine that can handle large amounts of data.\n",
    "\n",
    "3. SAS :- It is one of those data science tools which are specifically designed for statistical operation."
   ]
  },
  {
   "cell_type": "markdown",
   "id": "1100abf2",
   "metadata": {},
   "source": [
    "Exercise 7 - Create a markdown cell introducing arithmetic expression examples"
   ]
  },
  {
   "cell_type": "code",
   "execution_count": 4,
   "id": "541d2b3f",
   "metadata": {},
   "outputs": [
    {
     "data": {
      "text/plain": [
       "31"
      ]
     },
     "execution_count": 4,
     "metadata": {},
     "output_type": "execute_result"
    }
   ],
   "source": [
    "# Arithmetic operations\n",
    "code = compile(\"22 + 9\", \"<string>\", \"eval\")\n",
    "eval(code)\n",
    "# Answer: 31"
   ]
  },
  {
   "cell_type": "code",
   "execution_count": 7,
   "id": "ad4838ed",
   "metadata": {},
   "outputs": [
    {
     "data": {
      "text/plain": [
       "85"
      ]
     },
     "execution_count": 7,
     "metadata": {},
     "output_type": "execute_result"
    }
   ],
   "source": [
    "code1 = compile(\"(6 + 11) * 5\", \"<string>\", \"eval\")\n",
    "eval(code1)\n",
    "# Answer: 85"
   ]
  },
  {
   "cell_type": "markdown",
   "id": "d863f113",
   "metadata": {},
   "source": [
    "Exercise 8 - Create a code cell to multiply and add numbers"
   ]
  },
  {
   "cell_type": "code",
   "execution_count": 9,
   "id": "f7fd922c",
   "metadata": {},
   "outputs": [
    {
     "data": {
      "text/plain": [
       "536"
      ]
     },
     "execution_count": 9,
     "metadata": {},
     "output_type": "execute_result"
    }
   ],
   "source": [
    "(56 * 8) + 88\n",
    "# Answer : 536"
   ]
  },
  {
   "cell_type": "markdown",
   "id": "5a57347c",
   "metadata": {},
   "source": [
    "Exercise 9 - Create a code cell to convert minutes to hours."
   ]
  },
  {
   "cell_type": "code",
   "execution_count": 15,
   "id": "3045c644",
   "metadata": {},
   "outputs": [
    {
     "name": "stdout",
     "output_type": "stream",
     "text": [
      "0 days, 8.333333333333334 hours, 0 mins. \n"
     ]
    }
   ],
   "source": [
    "days = 0\n",
    "hours = 0\n",
    "mins = 0\n",
    "\n",
    "time = 500\n",
    "#days = time / 1440\n",
    "leftover_minutes = time % 1440\n",
    "hours = leftover_minutes / 60\n",
    "#mins = time - (days*1440) - (hours*60)\n",
    "print(str(days) + \" days, \" + str(hours) + \" hours, \" + str(mins) +  \" mins. \")\n",
    "\n",
    "# Result: 8.333333333333334 hours"
   ]
  },
  {
   "cell_type": "markdown",
   "id": "a014e41c",
   "metadata": {},
   "source": [
    "Exercise 10 -Insert a markdown cell to list Objectives"
   ]
  },
  {
   "cell_type": "markdown",
   "id": "2dae45d7",
   "metadata": {},
   "source": [
    "The objectives of this notebook are to:\n",
    "\n",
    "1. Introduce basic arithmetic expressions in Python.\n",
    "2. Demonstrate how to perform multiplication and addition in Python.\n",
    "3. Convert minutes to hours using Python.\n",
    "4. Explore the use of arithmetic expressions in data science applications.\n",
    "5. Provide a foundation for learning more complex data science tools and techniques."
   ]
  },
  {
   "cell_type": "markdown",
   "id": "52907afb",
   "metadata": {},
   "source": [
    "Exercise 11 - Create a markdown cell to indicate the Author’s name"
   ]
  },
  {
   "cell_type": "markdown",
   "id": "9f556a25",
   "metadata": {},
   "source": [
    "Author \n",
    "\n",
    "This notebook was Created by Vinay Sanil."
   ]
  },
  {
   "cell_type": "code",
   "execution_count": null,
   "id": "25e6a119",
   "metadata": {},
   "outputs": [],
   "source": []
  }
 ],
 "metadata": {
  "kernelspec": {
   "display_name": "Python 3 (ipykernel)",
   "language": "python",
   "name": "python3"
  },
  "language_info": {
   "codemirror_mode": {
    "name": "ipython",
    "version": 3
   },
   "file_extension": ".py",
   "mimetype": "text/x-python",
   "name": "python",
   "nbconvert_exporter": "python",
   "pygments_lexer": "ipython3",
   "version": "3.9.13"
  }
 },
 "nbformat": 4,
 "nbformat_minor": 5
}
